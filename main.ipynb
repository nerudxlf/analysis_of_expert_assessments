{
  "nbformat": 4,
  "nbformat_minor": 0,
  "metadata": {
    "colab": {
      "name": "main.ipynb",
      "provenance": [],
      "authorship_tag": "ABX9TyM7NEV4/gXYzRzeqsJOZbuV",
      "include_colab_link": true
    },
    "kernelspec": {
      "name": "python3",
      "display_name": "Python 3"
    }
  },
  "cells": [
    {
      "cell_type": "markdown",
      "metadata": {
        "id": "view-in-github",
        "colab_type": "text"
      },
      "source": [
        "<a href=\"https://colab.research.google.com/github/nerudxlf/analysis_of_expert_assessments/blob/main/main.ipynb\" target=\"_parent\"><img src=\"https://colab.research.google.com/assets/colab-badge.svg\" alt=\"Open In Colab\"/></a>"
      ]
    },
    {
      "cell_type": "code",
      "metadata": {
        "id": "sZ_EOzh6ek0x"
      },
      "source": [
        "import pandas as pd\r\n",
        "\r\n",
        "from google.colab import files\r\n",
        "\r\n",
        "files.upload()"
      ],
      "execution_count": null,
      "outputs": []
    },
    {
      "cell_type": "code",
      "metadata": {
        "id": "cuXyIbH5e_nh"
      },
      "source": [
        "def get_even(list_data: list) -> list:\r\n",
        "    result_list = []\r\n",
        "    for i in range(len(list_data)):\r\n",
        "        if i % 2 != 0:\r\n",
        "            result_list.append(list_data[i])\r\n",
        "    return result_list"
      ],
      "execution_count": null,
      "outputs": []
    },
    {
      "cell_type": "code",
      "metadata": {
        "id": "D41KiegPfBXl"
      },
      "source": [
        "data_df = pd.read_excel(\"data.xlsx\")\r\n",
        "wos_data_df = pd.read_excel(\"WoS2020.xlsx\")\r\n",
        "\r\n",
        "date_list = data_df[\"Дата создания\"]\r\n",
        "name_list = data_df[\"Наименование\"]\r\n",
        "name_book_list = data_df[\"Название журнала\"]\r\n",
        "prepared_list = data_df[\"Подготовил\"]\r\n",
        "signed_list = data_df[\"Подписан ЭП\"]\r\n",
        "\r\n",
        "date_list = get_even(date_list)\r\n",
        "name_list = get_even(name_list)\r\n",
        "name_book_list = get_even(name_book_list)\r\n",
        "prepared_list = get_even(prepared_list)\r\n",
        "signed_list = get_even(signed_list)\r\n",
        "\r\n",
        "result_df = pd.DataFrame(\r\n",
        "      {\"Дата\": date_list, \"Название\": name_list, \"Название журнала\": name_book_list, \"Подготовил\": prepared_list,\r\n",
        "      \"Подписан\": signed_list})\r\n",
        "\r\n",
        "result_df = pd.merge(left=result_df, right=wos_data_df, left_on=\"Название\", right_on=\"Article Title\", how=\"left\")\r\n",
        "result_df.to_excel(\"result.xlsx\", index=False)"
      ],
      "execution_count": null,
      "outputs": []
    }
  ]
}